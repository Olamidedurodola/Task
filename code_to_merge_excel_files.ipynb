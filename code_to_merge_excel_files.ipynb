{
  "cells": [
    {
      "cell_type": "markdown",
      "metadata": {
        "id": "view-in-github",
        "colab_type": "text"
      },
      "source": [
        "<a href=\"https://colab.research.google.com/github/Olamidedurodola/Task/blob/main/code_to_merge_excel_files.ipynb\" target=\"_parent\"><img src=\"https://colab.research.google.com/assets/colab-badge.svg\" alt=\"Open In Colab\"/></a>"
      ]
    },
    {
      "cell_type": "code",
      "execution_count": null,
      "id": "7325aae9",
      "metadata": {
        "id": "7325aae9"
      },
      "outputs": [],
      "source": [
        "import pandas as pd\n",
        "import os"
      ]
    },
    {
      "cell_type": "code",
      "execution_count": null,
      "id": "af94deff",
      "metadata": {
        "scrolled": true,
        "id": "af94deff"
      },
      "outputs": [],
      "source": [
        "# **2.Create variables for input and ouput location**\n",
        "\n",
        "input_loc = \"C:/Users/path/\"\n",
        "output_loc = \"C:/Users/output path/\""
      ]
    },
    {
      "cell_type": "code",
      "execution_count": null,
      "id": "8478646a",
      "metadata": {
        "id": "8478646a"
      },
      "outputs": [],
      "source": [
        "# **3.Create variable for list of input files**\n",
        "\n",
        "fileList = os.listdir(input_loc)\n",
        "fileList"
      ]
    },
    {
      "cell_type": "code",
      "execution_count": null,
      "id": "e8f7cf06",
      "metadata": {
        "id": "e8f7cf06"
      },
      "outputs": [],
      "source": [
        "# **4.Consolidate the files using for loop**\n",
        "\n",
        "finalDf1 = pd.DataFrame()\n",
        "\n",
        "for files in fileList:\n",
        "    if files.endswith(\".xlsx\"):\n",
        "        df = pd.read_excel(input_loc+files)\n",
        "        finalDf1 = finalDf1.append(df)\n",
        "        \n",
        "finalDf1.to_excel(output_loc+\"finalDf1.xlsx\",index=False)"
      ]
    }
  ],
  "metadata": {
    "kernelspec": {
      "display_name": "Python 3 (ipykernel)",
      "language": "python",
      "name": "python3"
    },
    "language_info": {
      "codemirror_mode": {
        "name": "ipython",
        "version": 3
      },
      "file_extension": ".py",
      "mimetype": "text/x-python",
      "name": "python",
      "nbconvert_exporter": "python",
      "pygments_lexer": "ipython3",
      "version": "3.7.1"
    },
    "colab": {
      "provenance": [],
      "include_colab_link": true
    }
  },
  "nbformat": 4,
  "nbformat_minor": 5
}