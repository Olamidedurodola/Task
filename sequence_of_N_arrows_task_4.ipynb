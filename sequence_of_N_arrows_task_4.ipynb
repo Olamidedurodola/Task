{
  "nbformat": 4,
  "nbformat_minor": 0,
  "metadata": {
    "colab": {
      "provenance": [],
      "authorship_tag": "ABX9TyMcBhIBHh4/UP4ZqlpVHQDz",
      "include_colab_link": true
    },
    "kernelspec": {
      "name": "python3",
      "display_name": "Python 3"
    },
    "language_info": {
      "name": "python"
    }
  },
  "cells": [
    {
      "cell_type": "markdown",
      "metadata": {
        "id": "view-in-github",
        "colab_type": "text"
      },
      "source": [
        "<a href=\"https://colab.research.google.com/github/Olamidedurodola/Task/blob/main/sequence_of_N_arrows_task_4.ipynb\" target=\"_parent\"><img src=\"https://colab.research.google.com/assets/colab-badge.svg\" alt=\"Open In Colab\"/></a>"
      ]
    },
    {
      "cell_type": "markdown",
      "source": [
        "You are given a string representing a sequence of Narrows, each pointing in one of the four cardinal directions: up ('^'), down ('v'), left ('<') or right ('>').\n",
        "\n",
        "Write a function solution that, given a string S denoting the directions of the arrows, returns the minimum number of arrows that must be rotated to make them all point in the same direction.\n",
        "\n",
        "Examples:\n",
        "1. Given S = \"^vv<v\", the function should return 2. After rotating both the first ('^') and fourth ('<') arrows downwards ('v'), all of the arrows would point down.\n",
        "\n",
        "2. Given S = \"v>>>vv\", the function should return 3. After rotating the first, fifth and sixth arrow rightwards, all of the arrows would point right.\n",
        "\n",
        "3. Given S = \"<<<\", the function should return 0. All of the arrows already point left.\n",
        "\n",
        "Assume that:\n",
        "• N is an integer within the range [1..100];\n",
        "• string S is made only of the following characters: \"^\",\"v\",\"<\" and /or\">\".\n",
        "\n",
        "In your solution, focus on correctness. "
      ],
      "metadata": {
        "id": "qqpLd190sdh1"
      }
    },
    {
      "cell_type": "markdown",
      "source": [
        "To solve this problem, we can count the number of times each arrow appears in the given string and choose the arrow that appears the most number of times. We will then need to rotate all other arrow to match the arrow that appears the most.\n",
        "\n",
        "Here is some sample code that demonstrates this approach:"
      ],
      "metadata": {
        "id": "rF2kbAxhsrAY"
      }
    },
    {
      "cell_type": "code",
      "execution_count": null,
      "metadata": {
        "id": "MAIqlKIU_g0a"
      },
      "outputs": [],
      "source": [
        "def solution(S: str) -> int:\n",
        "    # Count the number of times each arrow appears in the string\n",
        "    up_count = S.count('^')\n",
        "    down_count = S.count('v')\n",
        "    left_count = S.count('<')\n",
        "    right_count = S.count('>')\n",
        "\n",
        "    # Find the arrow that appears the most number of times\n",
        "    max_count = max(up_count, down_count, left_count, right_count)\n",
        "\n",
        "    # Calculate the number of arrow rotations needed\n",
        "    rotations = 0\n",
        "    if max_count != up_count:\n",
        "        rotations += up_count\n",
        "    if max_count != down_count:\n",
        "        rotations += down_count\n",
        "    if max_count != left_count:\n",
        "        rotations += left_count\n",
        "    if max_count != right_count:\n",
        "        rotations += right_count\n",
        "    \n",
        "    return rotations\n"
      ]
    },
    {
      "cell_type": "code",
      "source": [
        "solution(\"^vv<v\") == 2\n",
        "solution(\"v>>>vv\") == 3\n",
        "solution(\"<<<\") == 0"
      ],
      "metadata": {
        "colab": {
          "base_uri": "https://localhost:8080/"
        },
        "id": "oB6_FtErsb4O",
        "outputId": "27f79655-4ce1-44ca-d69f-a3e9f80eaf71"
      },
      "execution_count": null,
      "outputs": [
        {
          "output_type": "execute_result",
          "data": {
            "text/plain": [
              "True"
            ]
          },
          "metadata": {},
          "execution_count": 9
        }
      ]
    },
    {
      "cell_type": "code",
      "source": [
        "def solution(S: str) -> int:\n",
        "    # Initialize counters for each arrow direction\n",
        "    up = 0\n",
        "    down = 0\n",
        "    left = 0\n",
        "    right = 0\n",
        "    \n",
        "    # Count the number of times each arrow direction appears in the input string\n",
        "    for c in S:\n",
        "        if c == '^':\n",
        "            up += 1\n",
        "        elif c == 'v':\n",
        "            down += 1\n",
        "        elif c == '<':\n",
        "            left += 1\n",
        "        elif c == '>':\n",
        "            right += 1\n",
        "    \n",
        "    # Find the minimum count of the four arrow directions\n",
        "    min_count = min(up, down, left, right)\n",
        "    \n",
        "    # Return the number of arrow rotations needed\n",
        "    return (up - min_count) + (down - min_count) + (left - min_count) + (right - min_count)\n"
      ],
      "metadata": {
        "id": "qPhnCi0ttwgd"
      },
      "execution_count": null,
      "outputs": []
    },
    {
      "cell_type": "code",
      "source": [
        "solution(\"^vv<v\") == 2\n",
        "solution(\"v>>>vv\") == 3\n",
        "solution(\"<<<\") == 0"
      ],
      "metadata": {
        "colab": {
          "base_uri": "https://localhost:8080/"
        },
        "id": "9VA-LeJUwb9y",
        "outputId": "58507bf2-d774-44b7-8a75-acb85e6f5602"
      },
      "execution_count": null,
      "outputs": [
        {
          "output_type": "execute_result",
          "data": {
            "text/plain": [
              "False"
            ]
          },
          "metadata": {},
          "execution_count": 11
        }
      ]
    },
    {
      "cell_type": "code",
      "source": [
        "def solution(S: str) -> int:\n",
        "    up_count = S.count('^')\n",
        "    down_count = S.count('v')\n",
        "    left_count = S.count('<')\n",
        "    right_count = S.count('>')\n",
        "    return min(up_count, down_count, left_count, right_count)\n"
      ],
      "metadata": {
        "id": "IgoYIbh8ud22"
      },
      "execution_count": null,
      "outputs": []
    },
    {
      "cell_type": "code",
      "source": [
        "def solution(S: str) -> int:\n",
        "    up = 0\n",
        "    down = 0\n",
        "    left = 0\n",
        "    right = 0\n",
        "    for c in S:\n",
        "        if c == '^':\n",
        "            up += 1\n",
        "        elif c == 'v':\n",
        "            down += 1\n",
        "        elif c == '<':\n",
        "            left += 1\n",
        "        elif c == '>':\n",
        "            right += 1\n",
        "    return min(up, down, left, right)\n"
      ],
      "metadata": {
        "id": "pbc5Wi8evGwg"
      },
      "execution_count": null,
      "outputs": []
    },
    {
      "cell_type": "code",
      "source": [
        "def solution(S):\n",
        "  # Initialize counters for each direction to 0\n",
        "  up = 0\n",
        "  down = 0\n",
        "  left = 0\n",
        "  right = 0\n",
        "  # Iterate through the string\n",
        "  for c in S:\n",
        "    # Increment the counter for the direction of the arrow\n",
        "    if c == '^':\n",
        "      up += 1\n",
        "    elif c == 'v':\n",
        "      down += 1\n",
        "    elif c == '<':\n",
        "      left += 1\n",
        "    elif c == '>':\n",
        "      right += 1\n",
        "  # Find the minimum number of arrow rotations by taking the minimum of the counters\n",
        "  return min(up, down, left, right)\n"
      ],
      "metadata": {
        "id": "KRPV325Fvlf4"
      },
      "execution_count": null,
      "outputs": []
    }
  ]
}